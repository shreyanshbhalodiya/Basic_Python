{
 "cells": [
  {
   "cell_type": "markdown",
   "metadata": {},
   "source": [
    "# Functions: built-in and user defined"
   ]
  },
  {
   "cell_type": "code",
   "execution_count": 1,
   "metadata": {},
   "outputs": [],
   "source": [
    "import numpy as np"
   ]
  },
  {
   "cell_type": "markdown",
   "metadata": {},
   "source": [
    "Functions do things with data\n",
    "“Input”: function arguments (0,1,2,…)\n",
    "“Output”: function result (exactly one)\n",
    "There are predefined functions and User Defined Functions, both help in reusing functionality and offer a functionality\n",
    "\n",
    "Examples of typical input and output:\n",
    "round(): Input number, ndigits, Output trimmed number.\n",
    "list(): Input function and list name, output elements of list.\n",
    "plot(): Input vector, output NULL.\n",
    "max(): Input list or array, output element with max value"
   ]
  },
  {
   "cell_type": "code",
   "execution_count": 2,
   "metadata": {},
   "outputs": [
    {
     "name": "stdout",
     "output_type": "stream",
     "text": [
      "This is an awesome language\n",
      "That\n"
     ]
    }
   ],
   "source": [
    "# methods are functions that belong to Objects\n",
    "# Objects have methods associated with them depending on their type\n",
    "# str methods\n",
    "txt1 = \"this is an awesome language\"\n",
    "print( txt1.capitalize() )\n",
    "\n",
    "txt2 = \"This\"\n",
    "print(txt2.replace(\"is\", \"at\") )"
   ]
  },
  {
   "cell_type": "code",
   "execution_count": 3,
   "metadata": {},
   "outputs": [
    {
     "name": "stdout",
     "output_type": "stream",
     "text": [
      "5\n",
      "2\n",
      "[1, 1, 2, 3, 4, 5, 6, 7, 8, 9, 10]\n"
     ]
    }
   ],
   "source": [
    "# list methods\n",
    "lst = [1,1,2,3,4,5,6,7,8,9]\n",
    "\n",
    "# what is the index of 5 in this list?\n",
    "print(lst.index(5))\n",
    "\n",
    "# how many times does 1 occur?\n",
    "print(lst.count(1))\n",
    "\n",
    "# append 10 to the list\n",
    "lst.append(10)\n",
    "print(lst)"
   ]
  },
  {
   "attachments": {
    "image.png": {
     "image/png": "[encoded data removed]"
    }
   },
   "cell_type": "markdown",
   "metadata": {},
   "source": [
    "Create or define a function with Python’s def keyword.\n",
    "Then use or call the function by using its name.![image.png](attachment:image.png)"
   ]
  },
  {
   "cell_type": "code",
   "execution_count": 17,
   "metadata": {},
   "outputs": [],
   "source": [
    "# Define a Square Function\n",
    "def printNumSquare(num):\n",
    "    print (num**2)"
   ]
  },
  {
   "cell_type": "code",
   "execution_count": 21,
   "metadata": {},
   "outputs": [
    {
     "name": "stdout",
     "output_type": "stream",
     "text": [
      "9\n"
     ]
    }
   ],
   "source": [
    "# Call the function passing a single param\n",
    "printNumSquare(np.array(3))"
   ]
  },
  {
   "cell_type": "code",
   "execution_count": 22,
   "metadata": {},
   "outputs": [
    {
     "name": "stdout",
     "output_type": "stream",
     "text": [
      "[1 4 9]\n"
     ]
    }
   ],
   "source": [
    "# Call the function passing a np array\n",
    "printNumSquare(np.array([1,2,3]))"
   ]
  },
  {
   "cell_type": "code",
   "execution_count": 25,
   "metadata": {},
   "outputs": [],
   "source": [
    "# Define a Square Function with default value for paramater\n",
    "def printNumSquare(num=2):\n",
    "    print (num**2)"
   ]
  },
  {
   "cell_type": "code",
   "execution_count": 26,
   "metadata": {},
   "outputs": [
    {
     "name": "stdout",
     "output_type": "stream",
     "text": [
      "4\n"
     ]
    }
   ],
   "source": [
    "# Call the function without passing a single param\n",
    "printNumSquare()"
   ]
  },
  {
   "cell_type": "code",
   "execution_count": 27,
   "metadata": {},
   "outputs": [],
   "source": [
    "# A function can return a value\n",
    "def printNumSquare(num=4):\n",
    "    return (num**2)"
   ]
  },
  {
   "cell_type": "code",
   "execution_count": 28,
   "metadata": {},
   "outputs": [],
   "source": [
    "z = printNumSquare(5)"
   ]
  },
  {
   "cell_type": "code",
   "execution_count": 29,
   "metadata": {},
   "outputs": [
    {
     "data": {
      "text/plain": [
       "25"
      ]
     },
     "execution_count": 29,
     "metadata": {},
     "output_type": "execute_result"
    }
   ],
   "source": [
    "z"
   ]
  },
  {
   "cell_type": "code",
   "execution_count": 30,
   "metadata": {},
   "outputs": [],
   "source": [
    "# A function can return multiple values\n",
    "def printNumSquareCube(num):\n",
    "    return num**2, num**3"
   ]
  },
  {
   "cell_type": "code",
   "execution_count": 32,
   "metadata": {},
   "outputs": [
    {
     "name": "stdout",
     "output_type": "stream",
     "text": [
      "25 125\n"
     ]
    }
   ],
   "source": [
    "x,y = printNumSquareCube(5)\n",
    "print(x, y)"
   ]
  },
  {
   "cell_type": "markdown",
   "metadata": {},
   "source": [
    "Variables are local to a function => local variables\n",
    "Variables that are defined outside a function are global \n",
    "Global Variables can be referenced within a function"
   ]
  },
  {
   "cell_type": "code",
   "execution_count": 33,
   "metadata": {},
   "outputs": [],
   "source": [
    "# define a variable\n",
    "gl_var = 1\n",
    "# define a function which access the global var\n",
    "def increment_a_num(num):\n",
    "    local_var = \"txt\"\n",
    "    return num + gl_var"
   ]
  },
  {
   "cell_type": "code",
   "execution_count": 34,
   "metadata": {},
   "outputs": [
    {
     "data": {
      "text/plain": [
       "8"
      ]
     },
     "execution_count": 34,
     "metadata": {},
     "output_type": "execute_result"
    }
   ],
   "source": [
    "# this should return 7 + 1\n",
    "increment_a_num(7)"
   ]
  },
  {
   "cell_type": "code",
   "execution_count": null,
   "metadata": {},
   "outputs": [],
   "source": [
    "# refering to local_var outside the function is not legal\n",
    "local_var"
   ]
  },
  {
   "cell_type": "code",
   "execution_count": null,
   "metadata": {},
   "outputs": [],
   "source": [
    "# lambda functions (anonymous functions)\n",
    "# It includes a single expression involving any number of parameters\n",
    "# ideal for simply creating a funcction object where one is required (and just that)\n",
    "# lambda functions always return the result of the expression so explicit return is not required\n",
    "\n",
    "def square_it(y): \n",
    "    return y*y; \n",
    "\n",
    "print(square_it(5)) \n",
    "\n",
    "g = lambda x: x*x \n",
    "print(g(7)) "
   ]
  },
  {
   "cell_type": "code",
   "execution_count": null,
   "metadata": {},
   "outputs": [],
   "source": [
    "# function can recursively call itself\n",
    "\n",
    "def recurs(j):\n",
    "  if(j>0):\n",
    "    print(j)\n",
    "    recurs(j-1)\n",
    "  else:\n",
    "    print(\"end of recurs\")\n",
    "  return "
   ]
  },
  {
   "cell_type": "code",
   "execution_count": 46,
   "metadata": {},
   "outputs": [
    {
     "name": "stdout",
     "output_type": "stream",
     "text": [
      "\n",
      "Recurs Function Execution\n",
      "3\n",
      "2\n",
      "1\n",
      "end of recurs\n"
     ]
    },
    {
     "data": {
      "text/plain": [
       "array([1., 1., 2.])"
      ]
     },
     "execution_count": 46,
     "metadata": {},
     "output_type": "execute_result"
    }
   ],
   "source": [
    "print(\"\\nRecurs Function Execution\")\n",
    "recurs(3)"
   ]
  }
 ],
 "metadata": {
  "kernelspec": {
   "display_name": "Python 3",
   "language": "python",
   "name": "python3"
  },
  "language_info": {
   "codemirror_mode": {
    "name": "ipython",
    "version": 3
   },
   "file_extension": ".py",
   "mimetype": "text/x-python",
   "name": "python",
   "nbconvert_exporter": "python",
   "pygments_lexer": "ipython3",
   "version": "3.6.5"
  }
 },
 "nbformat": 4,
 "nbformat_minor": 2
}
