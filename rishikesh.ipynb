{
 "cells": [
  {
   "cell_type": "code",
   "execution_count": 1,
   "metadata": {
    "scrolled": true
   },
   "outputs": [
    {
     "name": "stdout",
     "output_type": "stream",
     "text": [
      "enter here 1\n",
      "enter here 8\n",
      "enter here 9\n",
      "enter here 5\n",
      "enter here 5\n",
      "enter here 4\n",
      "enter here 5\n",
      "enter here 5\n",
      "enter here 54\n",
      "enter here 4\n",
      "enter here done\n",
      "[1, 8, 9, 5, 5, 4, 5, 5, 54, 4]\n",
      "54\n",
      "1\n"
     ]
    }
   ],
   "source": [
    "try:\n",
    "    x = ''\n",
    "    basket = []\n",
    "\n",
    "    while x != 'done':\n",
    "        x = input(\"enter here \")\n",
    "        basket.append(x)\n",
    "    int_list = [int(i) for i in basket[:-1]]\n",
    "    print(int_list)\n",
    "    print(max(int_list))\n",
    "    print(min(int_list))\n",
    "    \n",
    "except:\n",
    "    print('error enter again')"
   ]
  },
  {
   "cell_type": "code",
   "execution_count": 1,
   "metadata": {},
   "outputs": [
    {
     "name": "stdout",
     "output_type": "stream",
     "text": [
      "enter here 1\n",
      "enter here 2\n",
      "enter here 3\n",
      "enter here 6\n",
      "enter here 4\n",
      "enter here 5\n",
      "enter here 6\n",
      "enter here done\n",
      "6\n",
      "1\n"
     ]
    }
   ],
   "source": [
    "try:\n",
    "    x = ''\n",
    "    basket = []\n",
    "\n",
    "    while x != 'done':\n",
    "        x = input(\"enter here \")\n",
    "        basket.append(x)\n",
    "    int_list = [int(i) for i in basket[:-1]]\n",
    "    print(max(int_list))\n",
    "    print(min(int_list))\n",
    "    \n",
    "except:\n",
    "    print('error enter again')"
   ]
  },
  {
   "cell_type": "code",
   "execution_count": 9,
   "metadata": {},
   "outputs": [
    {
     "data": {
      "text/plain": [
       "[1, 2, 5, 4, 8]"
      ]
     },
     "execution_count": 9,
     "metadata": {},
     "output_type": "execute_result"
    }
   ],
   "source": [
    "x = [1,2,5,4,8,9]\n",
    "x[:-1]\n",
    "  "
   ]
  },
  {
   "cell_type": "code",
   "execution_count": null,
   "metadata": {},
   "outputs": [],
   "source": []
  }
 ],
 "metadata": {
  "kernelspec": {
   "display_name": "Python 3",
   "language": "python",
   "name": "python3"
  },
  "language_info": {
   "codemirror_mode": {
    "name": "ipython",
    "version": 3
   },
   "file_extension": ".py",
   "mimetype": "text/x-python",
   "name": "python",
   "nbconvert_exporter": "python",
   "pygments_lexer": "ipython3",
   "version": "3.7.6"
  }
 },
 "nbformat": 4,
 "nbformat_minor": 4
}
