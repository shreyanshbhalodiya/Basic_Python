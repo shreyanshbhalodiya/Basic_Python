{
 "cells": [
  {
   "cell_type": "code",
   "execution_count": 2,
   "metadata": {},
   "outputs": [],
   "source": [
    "import numpy as np\n"
   ]
  },
  {
   "cell_type": "code",
   "execution_count": 2,
   "metadata": {},
   "outputs": [
    {
     "name": "stdout",
     "output_type": "stream",
     "text": [
      "[1 2 2 3 4 5]\n"
     ]
    }
   ],
   "source": [
    "x = numpy.array([1,2,2,3,4,5])\n",
    "print(x)"
   ]
  },
  {
   "cell_type": "code",
   "execution_count": 5,
   "metadata": {},
   "outputs": [
    {
     "name": "stdout",
     "output_type": "stream",
     "text": [
      "1.18.1\n"
     ]
    }
   ],
   "source": [
    "print(np.__version__)"
   ]
  },
  {
   "cell_type": "code",
   "execution_count": 6,
   "metadata": {},
   "outputs": [
    {
     "data": {
      "text/plain": [
       "array(42)"
      ]
     },
     "execution_count": 6,
     "metadata": {},
     "output_type": "execute_result"
    }
   ],
   "source": [
    "np.array(42)"
   ]
  },
  {
   "cell_type": "code",
   "execution_count": 9,
   "metadata": {},
   "outputs": [
    {
     "name": "stdout",
     "output_type": "stream",
     "text": [
      "[[[1 2 3]\n",
      "  [3 2 1]]\n",
      "\n",
      " [[4 5 6]\n",
      "  [6 5 4]]]\n"
     ]
    }
   ],
   "source": [
    "a = np.array([[[1,2,3],[3,2,1]],[[4,5,6],[6,5,4]]])\n",
    "print(a)"
   ]
  },
  {
   "cell_type": "code",
   "execution_count": 12,
   "metadata": {},
   "outputs": [
    {
     "name": "stdout",
     "output_type": "stream",
     "text": [
      "[[1 2 3]\n",
      " [4 5 6]]\n"
     ]
    }
   ],
   "source": [
    "b = np.array([[1,2,3],[4,5,6]])\n",
    "print(b)"
   ]
  },
  {
   "cell_type": "code",
   "execution_count": 18,
   "metadata": {},
   "outputs": [
    {
     "name": "stdout",
     "output_type": "stream",
     "text": [
      "0\n",
      "1\n",
      "2\n",
      "3\n",
      "[[[list([1, 2, 3]) list([3, 2, 1])]\n",
      "  [list([4, 5, 6]) list([6, 5, 4])]\n",
      "  [list([1, 2, 3, 4, 5]) list([7, 8, 9, 1, 4, 7])]]]\n"
     ]
    }
   ],
   "source": [
    "p = np.array(42)\n",
    "q = np.array([1,2,2,3,4,5])\n",
    "b = np.array([[1,2,3],[4,5,6]])\n",
    "a = np.array([ [[1,2,3],[3,2,1]],[[4,5,6],[6,5,4]],[[1,2,3,4,5],[7,8,9,1,4,7]] ])\n",
    "\n",
    "print(p.ndim)\n",
    "print(q.ndim)\n",
    "print(b.ndim)\n",
    "print(a.ndim)\n",
    "print(a)\n",
    "\n"
   ]
  },
  {
   "cell_type": "code",
   "execution_count": 24,
   "metadata": {},
   "outputs": [
    {
     "name": "stdout",
     "output_type": "stream",
     "text": [
      "1\n",
      "2\n",
      "2\n",
      "3\n",
      "5\n"
     ]
    }
   ],
   "source": [
    "x = np.array([1,2,2,3,45,5])\n",
    "print(x[0])\n",
    "print(x[1])\n",
    "print(x[2])\n",
    "print(x[3])\n",
    "print(x[-1])\n"
   ]
  },
  {
   "cell_type": "code",
   "execution_count": 25,
   "metadata": {},
   "outputs": [
    {
     "name": "stdout",
     "output_type": "stream",
     "text": [
      "3\n"
     ]
    }
   ],
   "source": [
    "print(x[0] + x[1])\n"
   ]
  },
  {
   "cell_type": "code",
   "execution_count": 31,
   "metadata": {
    "scrolled": false
   },
   "outputs": [
    {
     "name": "stdout",
     "output_type": "stream",
     "text": [
      "2nd element on 2nd dim  5\n",
      "5nd element on 2nd dim  7\n"
     ]
    }
   ],
   "source": [
    "b = np.array([[1,2,3,4,5,6,7],[4,5,6,5,4,7,85]])\n",
    "print('2nd element on 2nd dim ',b[1,1])\n",
    "print('5nd element on 2nd dim ',b[1,5])"
   ]
  },
  {
   "cell_type": "code",
   "execution_count": 37,
   "metadata": {},
   "outputs": [
    {
     "name": "stdout",
     "output_type": "stream",
     "text": [
      "6\n",
      "2\n",
      "3\n",
      "3\n",
      "4\n",
      "5\n"
     ]
    }
   ],
   "source": [
    "a = np.array([[[1,2,3],[3,2,1]],[[4,5,6],[6,5,4]]])\n",
    "print(a[1,1,0])\n",
    "print(a[0,0,1])\n",
    "print(a[0,1,0])\n",
    "print(a[0,1,0])\n",
    "print(a[1,1,2])\n",
    "print(a[1,1,1])\n"
   ]
  },
  {
   "cell_type": "code",
   "execution_count": 38,
   "metadata": {},
   "outputs": [
    {
     "name": "stdout",
     "output_type": "stream",
     "text": [
      "last element on 2nd dim  85\n",
      "3nd element on 2nd dim  6\n"
     ]
    }
   ],
   "source": [
    "b = np.array([[1,2,3,4,5,6,7],[4,5,6,5,4,7,85]])\n",
    "print('last element on 2nd dim ',b[1,-1])\n",
    "print('3nd element on 2nd dim ',b[1,-5])        ## negetive indexing"
   ]
  },
  {
   "cell_type": "code",
   "execution_count": 3,
   "metadata": {
    "scrolled": true
   },
   "outputs": [
    {
     "data": {
      "text/plain": [
       "array([ 2,  2,  3, 45])"
      ]
     },
     "execution_count": 3,
     "metadata": {},
     "output_type": "execute_result"
    }
   ],
   "source": [
    "x = np.array([1,2,2,3,45,5])\n",
    "x[1:5]\n",
    "####x[start:end]"
   ]
  },
  {
   "cell_type": "code",
   "execution_count": 6,
   "metadata": {},
   "outputs": [
    {
     "name": "stdout",
     "output_type": "stream",
     "text": [
      "[1]\n",
      "[1 2]\n",
      "[1 2 2]\n",
      "[1 2 2 3]\n"
     ]
    }
   ],
   "source": [
    "print(x[:1])\n",
    "print(x[:2])\n",
    "print(x[:3])\n",
    "print(x[:4])"
   ]
  },
  {
   "cell_type": "code",
   "execution_count": 8,
   "metadata": {},
   "outputs": [
    {
     "name": "stdout",
     "output_type": "stream",
     "text": [
      "[ 2  2  3 45  5]\n",
      "[ 2  3 45  5]\n",
      "[ 3 45  5]\n",
      "[45  5]\n"
     ]
    }
   ],
   "source": [
    "print(x[1:])\n",
    "print(x[2:])\n",
    "print(x[3:])\n",
    "print(x[4:])"
   ]
  },
  {
   "cell_type": "code",
   "execution_count": 11,
   "metadata": {},
   "outputs": [
    {
     "data": {
      "text/plain": [
       "array([], dtype=int32)"
      ]
     },
     "execution_count": 11,
     "metadata": {},
     "output_type": "execute_result"
    }
   ],
   "source": [
    "print\n",
    "(x[-1:-3])"
   ]
  },
  {
   "cell_type": "code",
   "execution_count": null,
   "metadata": {},
   "outputs": [],
   "source": []
  }
 ],
 "metadata": {
  "kernelspec": {
   "display_name": "Python 3",
   "language": "python",
   "name": "python3"
  },
  "language_info": {
   "codemirror_mode": {
    "name": "ipython",
    "version": 3
   },
   "file_extension": ".py",
   "mimetype": "text/x-python",
   "name": "python",
   "nbconvert_exporter": "python",
   "pygments_lexer": "ipython3",
   "version": "3.7.6"
  }
 },
 "nbformat": 4,
 "nbformat_minor": 4
}
